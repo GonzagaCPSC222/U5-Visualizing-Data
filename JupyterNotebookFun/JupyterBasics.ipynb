{
 "cells": [
  {
   "cell_type": "code",
   "execution_count": 1,
   "metadata": {},
   "outputs": [
    {
     "name": "stdout",
     "output_type": "stream",
     "text": [
      "hello\n"
     ]
    }
   ],
   "source": [
    "print(\"hello\")"
   ]
  },
  {
   "cell_type": "markdown",
   "metadata": {},
   "source": [
    "**Jupyter Notebook** is an interleaved list of `code` and *markdown* cells that collectively tell a data science story\n",
    "\n",
    "$$y = mx + b$$"
   ]
  },
  {
   "cell_type": "markdown",
   "metadata": {},
   "source": [
    "# This is a Level One Header\n",
    "## This is a Level Two Header\n",
    "This is paragraph text\n",
    "This is another line\n",
    "\n",
    "Hard break: two new lines\n",
    "\n",
    "Next line\n",
    "\n",
    "Soft break: 2 spaces and a new line  \n",
    "Next line"
   ]
  },
  {
   "cell_type": "markdown",
   "metadata": {},
   "source": [
    "## Formatting\n",
    "We can **bold** *italicize* ~~strikethrough~~ `code format`\n",
    "\n",
    "```python\n",
    "for i in range(5):\n",
    "    print(i)\n",
    "```\n",
    "\n",
    ">This is a  \n",
    "block quote"
   ]
  },
  {
   "cell_type": "markdown",
   "metadata": {},
   "source": [
    "## Lists\n",
    "Unordered list\n",
    "* Item A\n",
    "* Item B\n",
    "* Item C\n",
    "\n",
    "Ordered list\n",
    "1. Item A\n",
    "1. Item B\n",
    "1. Item C\n",
    "\n",
    "We can nest and mix list types\n",
    "1. Item 1\n",
    "1. Item 2\n",
    "    * Item A\n",
    "    * Item B\n",
    "1. Item 3\n",
    "    1. Item 3.1\n",
    "    1. Item 3.2"
   ]
  },
  {
   "cell_type": "markdown",
   "metadata": {},
   "source": [
    "## Links\n",
    "Shows the link: https://www.markdowntutorial.com/\n",
    "\n",
    "I recommend you do [this](https://www.markdowntutorial.com/) markdown tutorial"
   ]
  },
  {
   "cell_type": "markdown",
   "metadata": {},
   "source": [
    "## Images\n",
    "![I heart markdown](https://akshayranganath-res.cloudinary.com/image/upload/f_auto,q_auto/blog/markdown.png)\n",
    "\n",
    "<!-- Write your comments here -->\n",
    "\n",
    "<img src=\"https://akshayranganath-res.cloudinary.com/image/upload/f_auto,q_auto/blog/markdown.png\" width=\"200\"/>"
   ]
  },
  {
   "cell_type": "markdown",
   "metadata": {},
   "source": [
    "## Tables\n",
    "|NAME|PTS|CLASS|\n",
    "|-|-|-|\n",
    "|Ben Gregg|273|Sr|\n",
    "|Braden Huff|324|So|"
   ]
  },
  {
   "cell_type": "markdown",
   "metadata": {},
   "source": [
    "## Latex (Math Mode)\n",
    "Latex is a mathematical typsetting language/framework used for writing documents and typesetting nice math expressions/formulas.\n",
    "\n",
    "We will only use Latex's math mode in this class.\n",
    "\n",
    "Subscripts: $x_i$ $x_{i + 1}$\n",
    "\n",
    "$$x_{i}$$  \n",
    "Superscripts: $x^i x^{i + 1}$  \n",
    "Symbols over characters: $\\overline{x + 1} \\widehat{x + 1}$  \n",
    "Special characters: $\\pi \\mu \\sigma$  \n",
    "Square roots: $\\sqrt{x + y + z}$  \n",
    "Fractions: $\\frac{1}{\\sqrt{x + y + z}}$  \n",
    "Sums: $\\sum_{i = 1}^{n} x_{i}$"
   ]
  },
  {
   "cell_type": "code",
   "execution_count": null,
   "metadata": {},
   "outputs": [
    {
     "name": "stdout",
     "output_type": "stream",
     "text": [
      "hello it is 3/18/25 🤪🤪🤪🤪🤪🤪🤪\n"
     ]
    }
   ],
   "source": [
    "import importlib\n",
    "import utils\n",
    "\n",
    "# to load saved changes in utils.py\n",
    "# restart kernel OR\n",
    "# programmatically force a reload of utils\n",
    "importlib.reload(utils)\n",
    "\n",
    "utils.say_hello()"
   ]
  }
 ],
 "metadata": {
  "kernelspec": {
   "display_name": "Python 3 (ipykernel)",
   "language": "python",
   "name": "python3"
  },
  "language_info": {
   "codemirror_mode": {
    "name": "ipython",
    "version": 3
   },
   "file_extension": ".py",
   "mimetype": "text/x-python",
   "name": "python",
   "nbconvert_exporter": "python",
   "pygments_lexer": "ipython3",
   "version": "3.9.7"
  }
 },
 "nbformat": 4,
 "nbformat_minor": 4
}
